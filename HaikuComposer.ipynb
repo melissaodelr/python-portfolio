{
  "nbformat": 4,
  "nbformat_minor": 0,
  "metadata": {
    "colab": {
      "provenance": []
    },
    "kernelspec": {
      "name": "python3",
      "display_name": "Python 3"
    },
    "language_info": {
      "name": "python"
    }
  },
  "cells": [
    {
      "cell_type": "code",
      "execution_count": null,
      "metadata": {
        "id": "UgDheYikeXhN"
      },
      "outputs": [],
      "source": [
        "import json, random, requests\n",
        "\n",
        "# datamuse api functions\n",
        "def topic_words(topic):\n",
        "    response = requests.get(f\"https://api.datamuse.com/words?md=s&rel_trg={topic}\")\n",
        "    if response.status_code == 200:\n",
        "        return json.loads(response.text)\n",
        "    else:\n",
        "        print(\"Sorry, connection error.\")\n",
        "        return []\n",
        "\n",
        "def left_context_words(context):\n",
        "    response = requests.get(f\"https://api.datamuse.com/words?md=s&sp=*&lc={context}\")\n",
        "    if response.status_code == 200:\n",
        "        return json.loads(response.text)\n",
        "    else:\n",
        "        print(\"Sorry, connection error.\")\n",
        "        return []\n",
        "\n",
        "def rhyming_words(context, rhyme):\n",
        "    response = requests.get(f\"https://api.datamuse.com/words?md=s&sp=*&lc={context}&rel_rhy={rhyme}\")\n",
        "    if response.status_code == 200:\n",
        "        return json.loads(response.text)\n",
        "    else:\n",
        "        print(\"Sorry, connection error.\")\n",
        "        return []\n",
        "\n",
        "def create_haiku_line(syllables, topic_words_info):\n",
        "    line = []\n",
        "    for i in syllables:\n",
        "        syllable_words = [word for word in topic_words_info if word.get(\"numSyllables\", 0) == i]\n",
        "        if not syllable_words:\n",
        "            line.append(\"\")\n",
        "        else:\n",
        "            line.append(random.choice(syllable_words)[\"word\"])\n",
        "    return \" \".join(line)\n",
        "\n",
        "# function to create the haiku\n",
        "def create_haiku(topic):\n",
        "    topic_words_info = topic_words(topic.lower())\n",
        "    if not topic_words_info:\n",
        "        print(\"Error.\")\n",
        "        return\n",
        "\n",
        "    syllable_scheme = [(3, 2), (3, 2, 2), (3, 2)]\n",
        "    haiku = []\n",
        "    for syllables in syllable_scheme:\n",
        "        line = create_haiku_line(syllables, topic_words_info)\n",
        "        if line:\n",
        "            haiku.append(line)\n",
        "        else:\n",
        "            print(\"Error.\")\n",
        "            return\n",
        "\n",
        "    end_words = [line.split()[-1] for line in haiku]\n",
        "\n",
        "    for i, line in enumerate(haiku):\n",
        "        print(line)\n",
        "        if i < 2:\n",
        "            print(\"\")\n",
        "\n",
        "print(\"Hello! Welcome to the predictive text Haiku generator.\")\n",
        "while True:\n",
        "    topic = input(\"What would you like to see a Haiku about? \").lower()\n",
        "    create_haiku(topic)\n",
        "\n",
        "    another_haiku = input(\"Would you like to see another Haiku (yes/no)? \").lower()\n",
        "    if another_haiku != \"yes\":\n",
        "        break"
      ]
    }
  ]
}