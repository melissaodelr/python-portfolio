{
  "nbformat": 4,
  "nbformat_minor": 0,
  "metadata": {
    "colab": {
      "provenance": []
    },
    "kernelspec": {
      "name": "python3",
      "display_name": "Python 3"
    },
    "language_info": {
      "name": "python"
    }
  },
  "cells": [
    {
      "cell_type": "code",
      "execution_count": null,
      "metadata": {
        "id": "d6Y_nrcMRKrx"
      },
      "outputs": [],
      "source": [
        "import random\n",
        "\n",
        "passwords = [\n",
        "    'about', 'after', 'again', 'below', 'could', 'every', 'first', 'found', 'great', 'house', 'large', 'learn',\n",
        "    'never', 'other', 'place', 'plant', 'point', 'right', 'small', 'sound', 'spell', 'still', 'study', 'their',\n",
        "    'there', 'these', 'thing', 'think', 'three', 'water', 'where', 'which', 'world', 'would', 'write'\n",
        "]\n",
        "random_password = random.choice(passwords)\n",
        "\n",
        "\n",
        "print(\"Welcome to the password breaker game!\")\n",
        "\n",
        "while True:\n",
        "    mode = input(\"Which mode would you like to play on (easy/hard)?: \").lower()\n",
        "    random_password = random.choice(passwords)\n",
        "    guesses = 0\n",
        "\n",
        "    if mode == \"hard\":\n",
        "        max_guesses = 5\n",
        "    elif mode == \"easy\":\n",
        "        max_guesses = float('inf')\n",
        "\n",
        "    while guesses < max_guesses:\n",
        "        guess = input(\"Enter a guess: \").lower()\n",
        "        guesses += 1\n",
        "        common_letters = set(password).intersection(guess)\n",
        "\n",
        "        if guess == password:\n",
        "            print(\"Correct! \" + str(len(password)) + \" guesses used.\")\n",
        "\n",
        "            break\n",
        "\n",
        "        else:\n",
        "            print(str(len(common_letters)) + \" letters correct.\")\n",
        "\n",
        "        if guess.lower() == \"quit\":\n",
        "            print(\"The password was \" + password)\n",
        "\n",
        "            break\n",
        "\n",
        "    if guesses == max_guesses:\n",
        "        print(\"Sorry, you're out of guesses. The password was \" + password)\n",
        "\n",
        "    play_again = input(\"Play again (yes/no)? \").lower()"
      ]
    }
  ]
}