{
  "nbformat": 4,
  "nbformat_minor": 0,
  "metadata": {
    "colab": {
      "provenance": []
    },
    "kernelspec": {
      "name": "python3",
      "display_name": "Python 3"
    },
    "language_info": {
      "name": "python"
    }
  },
  "cells": [
    {
      "cell_type": "code",
      "execution_count": null,
      "metadata": {
        "id": "nPyxgX3_lFAb",
        "colab": {
          "base_uri": "https://localhost:8080/",
          "height": 735
        },
        "outputId": "8e7fb862-2c35-44b5-8893-440d5398b521"
      },
      "outputs": [
        {
          "output_type": "stream",
          "name": "stderr",
          "text": [
            "[nltk_data] Downloading package stopwords to /root/nltk_data...\n",
            "[nltk_data]   Package stopwords is already up-to-date!\n"
          ]
        },
        {
          "output_type": "stream",
          "name": "stdout",
          "text": [
            "Decision Tree Accuracy: 0.6003528892809881\n",
            "K-Nearest Neighbors Accuracy: 0.6149095721217468\n",
            "Neural Network Accuracy: 0.6462284958094398\n",
            "Maximum iterations reached and the optimization hasn't converged yet.\n"
          ]
        },
        {
          "output_type": "display_data",
          "data": {
            "text/plain": [
              "<Figure size 640x480 with 2 Axes>"
            ],
            "image/png": "[encoded data removed]"
          },
          "metadata": {}
        },
        {
          "output_type": "stream",
          "name": "stdout",
          "text": [
            "Classification Report:\n",
            "                      precision    recall  f1-score   support\n",
            "\n",
            "Funding Unsuccessful       0.70      0.76      0.73      1436\n",
            "  Funding Successful       0.52      0.45      0.48       831\n",
            "\n",
            "            accuracy                           0.65      2267\n",
            "           macro avg       0.61      0.60      0.61      2267\n",
            "        weighted avg       0.64      0.65      0.64      2267\n",
            "\n"
          ]
        }
      ],
      "source": [
        "import csv, requests, nltk, matplotlib.pyplot as plt, sklearn.tree, sklearn.neighbors, sklearn.neural_network, sklearn.metrics, sklearn.model_selection, sklearn.feature_extraction.text, joblib, warnings\n",
        "from nltk.corpus import stopwords\n",
        "nltk.download('stopwords')\n",
        "\n",
        "warnings.filterwarnings(\"ignore\")\n",
        "\n",
        "response = requests.get(\"https://dgoldberg.sdsu.edu/515/kickstarter_data_full.csv\")\n",
        "\n",
        "if response:\n",
        "    try:\n",
        "        with open(\"kickstarter_data_full.csv\", \"wb\") as csv_file:\n",
        "            csv_file.write(response.content)\n",
        "    except Exception as e:\n",
        "        print(f\"Error: {e}\")\n",
        "        exit()\n",
        "\n",
        "    with open(\"kickstarter_data_full.csv\", \"r\", encoding=\"latin-1\") as file:\n",
        "        csv_read = csv.DictReader(file)\n",
        "        data = list(csv_read)\n",
        "\n",
        "    x = [row['Description'] for row in data]\n",
        "    y = [1 if row['Status'] == 'Funding Successful' else 0 for row in data]\n",
        "\n",
        "    # split into training and testing\n",
        "    x_train, x_test, y_train, y_test = sklearn.model_selection.train_test_split(x, y, test_size=0.2)\n",
        "\n",
        "    # vectorize data\n",
        "    vectorizer = sklearn.feature_extraction.text.CountVectorizer(max_features = 1000, stop_words = stopwords.words(\"english\"))\n",
        "    x_train_vectorize = vectorizer.fit_transform(x_train)\n",
        "    x_test_vectorize = vectorizer.transform(x_test)\n",
        "\n",
        "    # train dt model\n",
        "    clf_dt = sklearn.tree.DecisionTreeClassifier()\n",
        "    clf_dt.fit(x_train_vectorize, y_train)\n",
        "\n",
        "    # train knn model\n",
        "    clf_knn = sklearn.neighbors.KNeighborsClassifier(7)\n",
        "    clf_knn.fit(x_train_vectorize, y_train)\n",
        "\n",
        "    # train nn model\n",
        "    clf_nn = sklearn.neural_network.MLPClassifier()\n",
        "    clf_nn.fit(x_train_vectorize, y_train)\n",
        "\n",
        "    # evaluate all models\n",
        "    accuracy_dt = sklearn.metrics.accuracy_score(y_test, clf_dt.predict(x_test_vectorize))\n",
        "    accuracy_knn = sklearn.metrics.accuracy_score(y_test, clf_knn.predict(x_test_vectorize))\n",
        "    accuracy_nn = sklearn.metrics.accuracy_score(y_test, clf_nn.predict(x_test_vectorize))\n",
        "\n",
        "    # print accuracy values\n",
        "    print(\"Decision Tree Accuracy:\", accuracy_dt)\n",
        "    print(\"K-Nearest Neighbors Accuracy:\", accuracy_knn)\n",
        "    print(\"Neural Network Accuracy:\", accuracy_nn)\n",
        "\n",
        "    # save most accurate model to file\n",
        "    most_accurate_model = max([(accuracy_dt, clf_dt), (accuracy_knn, clf_knn), (accuracy_nn, clf_nn)], key=lambda x: x[0])\n",
        "    joblib.dump(most_accurate_model[1], \"most_accurate_model.joblib\")\n",
        "\n",
        "    # if most accurate model is nn, print a warning\n",
        "    if most_accurate_model[1] == clf_nn:\n",
        "        print(\"Maximum iterations reached and the optimization hasn't converged yet.\")\n",
        "\n",
        "    # load model from file\n",
        "    clf = joblib.load(\"most_accurate_model.joblib\")\n",
        "\n",
        "    # print confusion matrix for most accurate model\n",
        "    cm = sklearn.metrics.confusion_matrix(y_test, clf.predict(x_test_vectorize))\n",
        "    disp = sklearn.metrics.ConfusionMatrixDisplay(cm)\n",
        "    disp.plot()\n",
        "    plt.show()\n",
        "\n",
        "    # print classification report for most accurate model\n",
        "    report = sklearn.metrics.classification_report(y_test, clf.predict(x_test_vectorize), target_names=[\"Funding Unsuccessful\", \"Funding Successful\"])\n",
        "    print(\"Classification Report:\")\n",
        "    print(report)\n",
        "\n",
        "else:\n",
        "    print(\"Error: Unable to fetch data from the provided URL.\")"
      ]
    }
  ]
}