{
  "nbformat": 4,
  "nbformat_minor": 0,
  "metadata": {
    "colab": {
      "provenance": []
    },
    "kernelspec": {
      "name": "python3",
      "display_name": "Python 3"
    },
    "language_info": {
      "name": "python"
    }
  },
  "cells": [
    {
      "cell_type": "code",
      "execution_count": null,
      "metadata": {
        "colab": {
          "base_uri": "https://localhost:8080/"
        },
        "id": "EnU4I30z7FPc",
        "outputId": "5701d099-103c-4b1a-98a4-3b66a193ea8f"
      },
      "outputs": [
        {
          "name": "stdout",
          "output_type": "stream",
          "text": [
            "Requirement already satisfied: syllables in /usr/local/lib/python3.10/dist-packages (1.0.9)\n",
            "Requirement already satisfied: cmudict<2.0.0,>=1.0.11 in /usr/local/lib/python3.10/dist-packages (from syllables) (1.0.15)\n",
            "Requirement already satisfied: importlib-metadata<7.0,>=5.1 in /usr/local/lib/python3.10/dist-packages (from syllables) (6.8.0)\n",
            "Requirement already satisfied: importlib-resources<6.0.0,>=5.10.1 in /usr/local/lib/python3.10/dist-packages (from cmudict<2.0.0,>=1.0.11->syllables) (5.13.0)\n",
            "Requirement already satisfied: zipp>=0.5 in /usr/local/lib/python3.10/dist-packages (from importlib-metadata<7.0,>=5.1->syllables) (3.17.0)\n",
            "Welcome to the customer service analyzer!\n",
            "Which analysis would you like to perform (polarity/subjectivity/FKGL/wordcloud)? formality\n",
            "Which Twitter handle would you like to analyze? @amazonhelp\n",
            "Sorry, connection error.\n",
            "Would you like to run another analysis (yes/no)? yes\n",
            "Which analysis would you like to perform (polarity/subjectivity/FKGL/wordcloud)? polarity\n",
            "Which Twitter handle would you like to analyze? @amazonhelp\n",
            "@amazonhelp: 0.012632791606541599\n",
            "Would you like to run another analysis (yes/no)? yes\n",
            "Which analysis would you like to perform (polarity/subjectivity/FKGL/wordcloud)? fkgl\n",
            "Which Twitter handle would you like to analyze? @amazonhelp\n",
            "@amazonhelp: 6.455525426100937\n",
            "Would you like to run another analysis (yes/no)? yes\n",
            "Which analysis would you like to perform (polarity/subjectivity/FKGL/wordcloud)? FKGL\n",
            "Which Twitter handle would you like to analyze? @amazonhelp\n",
            "@amazonhelp: 6.455525426100937\n",
            "Would you like to run another analysis (yes/no)? subjectivity\n"
          ]
        }
      ],
      "source": [
        "!pip install syllables\n",
        "import json, requests, syllables, wordcloud, textblob, nltk, matplotlib.pyplot as plt\n",
        "nltk.download(\"punkt\", quiet = True)\n",
        "\n",
        "twitter_handles = [\"@sprintcare\", \"@Ask_Spectrum\", \"@AskPlayStation\", \"@XboxSupport\", \"@UPSHelp\", \"@AmazonHelp\", \"@hulu_support\", \"@comcastcares\", \"@TMobileHelp\", \"@Uber_Support\", \"@SpotifyCares\", \"@AppleSupport\"]\n",
        "\n",
        "response = requests.get(\"https://dgoldberg.sdsu.edu/515/customer_service_tweets_full.json\")\n",
        "\n",
        "if response:\n",
        "    data = json.loads(response.text)\n",
        "\n",
        "#calculate flesch-kincaid grade level for thr fkgl analysis if chosen by the user (seperated for clarity)\n",
        "    def calculate_fkgl(text):\n",
        "        words = text.split()\n",
        "        total_words = len(words)\n",
        "        total_sentences = text.count('.') + text.count('!') + text.count('?')\n",
        "        total_syllables = sum(syllables.estimate(word) for word in words)\n",
        "        if total_sentences == 0:\n",
        "            return 0\n",
        "        fkgl = 0.39 * (total_words / total_sentences) + 11.8 * (total_syllables / total_words) - 15.59\n",
        "        return fkgl\n",
        "\n",
        "#calculate analysis for each analysis type chosen by the user (seperated analysis section for clarity)\n",
        "    def perform_analysis(handle, analysis_type):\n",
        "        handle_tweets = [tweet['Text'] for tweet in data if handle.lower() == tweet['Company'].lower()]\n",
        "        if not handle_tweets:\n",
        "            print(f\"No tweets found for {handle}.\")\n",
        "            return\n",
        "        if analysis_type == 'polarity':\n",
        "            sentiment_scores = [textblob.TextBlob(tweet).sentiment.polarity for tweet in handle_tweets]\n",
        "            average_score = sum(sentiment_scores) / len(sentiment_scores)\n",
        "            print(f\"{handle}: {average_score}\")\n",
        "        elif analysis_type == 'subjectivity':\n",
        "            sentiment_scores = [textblob.TextBlob(tweet).sentiment.subjectivity for tweet in handle_tweets]\n",
        "            average_score = sum(sentiment_scores) / len(sentiment_scores)\n",
        "            print(f\"{handle}: {average_score}\")\n",
        "        elif analysis_type == 'fkgl':\n",
        "            fkgl_scores = [calculate_fkgl(tweet) for tweet in handle_tweets]\n",
        "            average_score = sum(fkgl_scores) / len(fkgl_scores)\n",
        "            print(f\"{handle}: {average_score}\")\n",
        "        elif analysis_type == 'wordcloud':\n",
        "            all_tweets = \" \".join(handle_tweets)\n",
        "            cloud = wordcloud.WordCloud(width=800, height=400).generate(str(all_tweets))\n",
        "            plt.figure(figsize=(8, 4))\n",
        "            plt.imshow(cloud, interpolation='bilinear')\n",
        "            plt.axis(\"off\")\n",
        "            plt.show()\n",
        "        else:\n",
        "            print(\"Sorry, connection error.\")\n",
        "\n",
        "\n",
        "#start the loop that asks what analysis and what twitter handle the user would like\n",
        "    print(\"Welcome to the customer service analyzer!\")\n",
        "    while True:\n",
        "        analysis_type = input(\"Which analysis would you like to perform (polarity/subjectivity/FKGL/wordcloud)? \").lower()\n",
        "        handle = input(\"Which Twitter handle would you like to analyze? \").lower()\n",
        "        if handle not in [i.lower() for i in twitter_handles]:\n",
        "            print(\"Unsupported twitter handle.\")\n",
        "            continue\n",
        "\n",
        "        perform_analysis(handle, analysis_type)\n",
        "\n",
        "        another_analysis = input(\"Would you like to run another analysis (yes/no)? \").lower()\n",
        "        if another_analysis != 'yes':\n",
        "            break"
      ]
    }
  ]
}