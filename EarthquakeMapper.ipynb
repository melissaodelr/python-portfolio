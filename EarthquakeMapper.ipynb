{
  "nbformat": 4,
  "nbformat_minor": 0,
  "metadata": {
    "colab": {
      "provenance": []
    },
    "kernelspec": {
      "name": "python3",
      "display_name": "Python 3"
    },
    "language_info": {
      "name": "python"
    }
  },
  "cells": [
    {
      "cell_type": "code",
      "execution_count": null,
      "metadata": {
        "colab": {
          "base_uri": "https://localhost:8080/"
        },
        "id": "WU5C43IcXsXA",
        "outputId": "1cb6d9c3-c037-4e3a-bc71-9d28946a8980"
      },
      "outputs": [
        {
          "output_type": "stream",
          "name": "stdout",
          "text": [
            "Magnitude 1.4 earthquake on October 11, 2023 at 10:41:07 AM and located at (-149.9943, 65.4655). Further location detail could not be determined.\n",
            "Magnitude 1.15 earthquake on October 11, 2023 at 10:35:58 AM and located at (-118.4866638, 35.0149994). Further location detail could not be determined.\n",
            "Magnitude 1.76 earthquake on October 11, 2023 at 10:26:03 AM and located at (-115.6094971, 33.0465012). Further location detail could not be determined.\n",
            "Magnitude 1.41 earthquake on October 11, 2023 at 10:19:12 AM and located at (-118.1016693, 34.095665). Further location detail could not be determined.\n",
            "Magnitude 1.1 earthquake on October 11, 2023 at 10:18:15 AM and located at (-116.7386, 37.0384). Further location detail could not be determined.\n",
            "Magnitude 1.4 earthquake on October 11, 2023 at 10:16:38 AM and located at (-148.8022, 64.837). Further location detail could not be determined.\n",
            "Magnitude 1.96 earthquake on October 11, 2023 at 10:00:34 AM and located at (-155.286666870117, 19.3621673583984). Further location detail could not be determined.\n"
          ]
        }
      ],
      "source": [
        "!pip install xmltodict -q\n",
        "import requests, csv, datetime, json, xmltodict\n",
        "\n",
        "usgs_url = \"https://earthquake.usgs.gov/earthquakes/feed/v1.0/summary/all_hour.geojson\"\n",
        "api_key = \"8ee3c868025544bdbc1f368e1035910e\"\n",
        "\n",
        "# function for unix time conversion\n",
        "def convert_unix_time(unix_time):\n",
        "    orig_time_sec = unix_time / 1000\n",
        "    datetime_timestamp = datetime.datetime.utcfromtimestamp(orig_time_sec)\n",
        "    datetime_adj_timestamp = datetime_timestamp - datetime.timedelta(hours=7)\n",
        "    time_str = datetime_adj_timestamp.strftime(\"%B %d, %Y at %I:%M:%S %p\")\n",
        "    return time_str\n",
        "\n",
        "# function for usgs earthquake information\n",
        "def earthquake_information():\n",
        "    try:\n",
        "        response = requests.get(usgs_url)\n",
        "        response.raise_for_status()\n",
        "        data = json.loads(response.text)\n",
        "        earthquakes = data[\"features\"]\n",
        "        return earthquakes\n",
        "    except Exception as e:\n",
        "        print(f\"Sorry, error: {e}\")\n",
        "        return []\n",
        "\n",
        "# function for opencage location information\n",
        "def location_information(lat, lng):\n",
        "    try:\n",
        "        url = (f\"https://api.opencagedata.com/geocode/v1/xml?q={lat}+{lng}&key={api_key}\")\n",
        "        response = requests.get(url)\n",
        "        response.raise_for_status()\n",
        "        data = xmltodict.parse(response.text)\n",
        "        if 'results' in data and 'components' in data['results']:\n",
        "            components = data['results']['components']\n",
        "            location_info = {\n",
        "                \"county\": components.get('county', 'N/A'),\n",
        "                \"state\": components.get('state', 'N/A')\n",
        "            }\n",
        "            return location_info\n",
        "    except Exception as e:\n",
        "        if response.status_code == 400:\n",
        "            return {\"county\": 'N/A', \"state\": 'N/A'}\n",
        "        else:\n",
        "            print(f\"Sorry, error: {e}\")\n",
        "\n",
        "def loop():\n",
        "    earthquakes = earthquake_information()\n",
        "    if earthquakes:\n",
        "        with open(\"earthquakes.csv\", \"w\", newline=\"\") as csvfile:\n",
        "            csv_writer = csv.writer(csvfile)\n",
        "            csv_writer.writerow([\"Time\", \"Magnitude\", \"Latitude\", \"Longitude\", \"County\", \"State\"])\n",
        "            for earthquake in earthquakes:\n",
        "                properties = earthquake[\"properties\"]\n",
        "                geometry = earthquake[\"geometry\"]\n",
        "                magnitude = properties[\"mag\"]\n",
        "                unix_time = properties[\"time\"]\n",
        "                lat, lng = geometry[\"coordinates\"][:2]\n",
        "                time_str = convert_unix_time(unix_time)\n",
        "                location_info = location_information(lat, lng)\n",
        "                county = location_info[\"county\"]\n",
        "                state = location_info[\"state\"]\n",
        "                if county == 'N/A' and state == 'N/A':\n",
        "                    print(f\"Magnitude {magnitude} earthquake on {time_str} and located at ({lat}, {lng}). Further location detail could not be determined.\")\n",
        "                else:\n",
        "                    print(f\"Magnitude {magnitude} earthquake on {time_str} and located at ({lat}, {lng}) in {county}, {state}.\")\n",
        "                csv_writer.writerow([time_str, magnitude, lat, lng, county, state])\n",
        "loop()"
      ]
    }
  ]
}